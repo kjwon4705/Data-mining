{
 "cells": [
  {
   "cell_type": "code",
   "execution_count": 2,
   "id": "c5387821",
   "metadata": {},
   "outputs": [],
   "source": [
    "import numpy as np\n",
    "import pandas as pd\n",
    "import seaborn as sns\n",
    "sns.set_context(\"paper\", font_scale = 1.5)\n",
    "sns.set_style(\"white\")"
   ]
  },
  {
   "cell_type": "code",
   "execution_count": 3,
   "id": "e77c2415",
   "metadata": {},
   "outputs": [],
   "source": [
    "from sklearn.datasets import fetch_california_housing\n",
    "from sklearn.model_selection import train_test_split"
   ]
  },
  {
   "cell_type": "code",
   "execution_count": 5,
   "id": "d0291c08",
   "metadata": {},
   "outputs": [],
   "source": [
    "ds = fetch_california_housing(as_frame = True)\n",
    "ds_df = pd.DataFrame(ds.data, columns = ds.feature_names)"
   ]
  },
  {
   "cell_type": "code",
   "execution_count": 21,
   "id": "63c35d74",
   "metadata": {},
   "outputs": [],
   "source": [
    "def get_california_housing():\n",
    "    dataset = fetch_california_housing()\n",
    "    df = pd.DataFrame(dataset.data, columns = dataset.feature_names)\n",
    "    df['MedHouseVal'] = dataset.target\n",
    "    df.index.name = 'record'\n",
    "    \n",
    "    X_train, X_test, y_train, y_test = \\\n",
    "    train_test_split(df.loc[:, df.columns != 'MedHouseVal'],df['MedHouseVal'], test_size = .33, random_state = 1)\n",
    "    \n",
    "    return [X_train, X_test, y_train, y_test]"
   ]
  },
  {
   "cell_type": "markdown",
   "id": "903ee205",
   "metadata": {},
   "source": [
    "- 줄이 너무 길때는 \\ 적고 ENTER 하기"
   ]
  },
  {
   "cell_type": "markdown",
   "id": "c0b5acec",
   "metadata": {},
   "source": [
    "## 선형 회귀"
   ]
  },
  {
   "cell_type": "code",
   "execution_count": 25,
   "id": "25785e49",
   "metadata": {},
   "outputs": [
    {
     "name": "stdout",
     "output_type": "stream",
     "text": [
      "r2 score is 0.5975983619028757\n"
     ]
    }
   ],
   "source": [
    "from sklearn.linear_model import LinearRegression\n",
    "from sklearn.metrics import r2_score\n",
    "\n",
    "X_train, X_test, y_train, y_test = get_california_housing()\n",
    "\n",
    "clf = LinearRegression()\n",
    "clf.fit(X_train, y_train)\n",
    "\n",
    "y_pred = clf.predict(X_test)\n",
    "r2 = r2_score(y_test, y_pred)\n",
    "print('r2 score is ' + str(r2))"
   ]
  },
  {
   "cell_type": "markdown",
   "id": "b00f3583",
   "metadata": {},
   "source": [
    "# 수축과 규제화를 하는 이유\n",
    "- 데이터 수가 회귀식의 요인수보다 적을 경우 최소제곱 계수 추정치가 존재하지 않게 된다.\n",
    "- 이를 극복하기 위해서는 몇몇 회귀 계수들을 선택하는 방법과 전체 회귀계수를 선택하되 계수 추정치들을 0에 근사하게 만드는 방법이 있다."
   ]
  },
  {
   "cell_type": "markdown",
   "id": "1b3d8afe",
   "metadata": {},
   "source": [
    "# 페널티 회귀를 활용한 규제화 (Regularization)"
   ]
  },
  {
   "cell_type": "code",
   "execution_count": 43,
   "id": "d32ce7da",
   "metadata": {},
   "outputs": [
    {
     "name": "stdout",
     "output_type": "stream",
     "text": [
      "Lasso r2 score is = 0.48910594774361116\n",
      "Ridge r2 score is = 0.5975969505991519\n"
     ]
    }
   ],
   "source": [
    "from sklearn.linear_model import Lasso, Ridge\n",
    "from sklearn.metrics import r2_score\n",
    "\n",
    "X_train, X_test, y_train, y_test = get_california_housing()\n",
    "\n",
    "for model in [Lasso, Ridge]:\n",
    "    clf = model(alpha = 0.3)\n",
    "    clf.fit(X_train, y_train)\n",
    "    y_pred = clf.predict(X_test)\n",
    "    r2 = r2_score(y_test, y_pred)\n",
    "    print(str(model)[-7:-2] + ' ' + 'r2 score is = ' + str(r2))"
   ]
  },
  {
   "cell_type": "markdown",
   "id": "f9cd6a28",
   "metadata": {},
   "source": [
    "# 분류 예제 데이터"
   ]
  },
  {
   "cell_type": "code",
   "execution_count": 44,
   "id": "3833ad4a",
   "metadata": {},
   "outputs": [],
   "source": [
    "from sklearn.datasets import make_moons\n",
    "from sklearn.model_selection import train_test_split\n",
    "\n",
    "def get_moon_data():\n",
    "    X, y = make_moons(n_samples = 150, noise = 0.4, random_state = 42)\n",
    "    X_train, X_test, y_train, y_test = \\\n",
    "    train_test_split(X, y, test_size = 0.33, random_state = 42)\n",
    "    \n",
    "    return [X_train, X_test, y_train, y_test]"
   ]
  },
  {
   "cell_type": "markdown",
   "id": "12ca7861",
   "metadata": {},
   "source": [
    "# 로지스틱 회귀"
   ]
  },
  {
   "cell_type": "code",
   "execution_count": 53,
   "id": "599e7076",
   "metadata": {},
   "outputs": [
    {
     "name": "stdout",
     "output_type": "stream",
     "text": [
      "f1_score is = 0.7499999999999999\n"
     ]
    }
   ],
   "source": [
    "from sklearn.linear_model import LogisticRegression\n",
    "from sklearn.metrics import f1_score\n",
    "\n",
    "X_train, X_test, y_train, y_test = get_moon_data()\n",
    "\n",
    "#clf = LogisticRegression(solver = 'lbfgs')\n",
    "clf = LogisticRegression(solver='lbfgs', penalty='l2', C=0.5) # 규제화된 로지스틱 회귀\n",
    "clf.fit(X_train, y_train)\n",
    "\n",
    "y_pred = clf.predict(X_test)\n",
    "f1 = f1_score(y_test, y_pred)\n",
    "print('f1_score is = ' + str(f1))"
   ]
  },
  {
   "cell_type": "markdown",
   "id": "eea689e0",
   "metadata": {},
   "source": [
    "# Confusion Matrix"
   ]
  },
  {
   "cell_type": "code",
   "execution_count": 51,
   "id": "8dd1dfb9",
   "metadata": {},
   "outputs": [
    {
     "data": {
      "image/png": "[encoded data removed]",
      "text/plain": [
       "<Figure size 432x288 with 2 Axes>"
      ]
     },
     "metadata": {},
     "output_type": "display_data"
    }
   ],
   "source": [
    "from sklearn.metrics import confusion_matrix\n",
    "import matplotlib.pyplot as plt\n",
    "from matplotlib.colors import ListedColormap\n",
    "\n",
    "cm = confusion_matrix(y_pred, y_test)\n",
    "\n",
    "labels = ['top crescent', 'bottom cresent']\n",
    "df_cm = pd.DataFrame(cm, index = labels, columns = labels)\n",
    "\n",
    "plt.figure(figsize = (6,4))\n",
    "sns.heatmap(df_cm, cmap = 'GnBu', annot = True)\n",
    "\n",
    "plt.title(\"Logistic Regression \\nF1 score : {0:.3f}\".format(f1_score(y_test, y_pred)))\n",
    "plt.xlabel('Prediction')\n",
    "plt.ylabel('Actual Class')\n",
    "plt.show()"
   ]
  },
  {
   "cell_type": "markdown",
   "id": "0a108a77",
   "metadata": {},
   "source": [
    "# 서포트 벡터 머신 (Support Vector Machines)"
   ]
  },
  {
   "cell_type": "code",
   "execution_count": 55,
   "id": "690f3424",
   "metadata": {},
   "outputs": [
    {
     "name": "stdout",
     "output_type": "stream",
     "text": [
      "f1 score is 0.7499999999999999\n"
     ]
    }
   ],
   "source": [
    "from sklearn.svm import SVC\n",
    "from sklearn.metrics import f1_score\n",
    "\n",
    "X_train, X_test, y_train, y_test = get_moon_data()\n",
    "\n",
    "clf = SVC(kernel = 'linear', C= 0.5)\n",
    "clf.fit(X_train, y_train)\n",
    "\n",
    "y_pred = clf.predict(X_test)\n",
    "f1 = f1_score(y_test, y_pred)\n",
    "print('f1 score is ' + str(f1))"
   ]
  },
  {
   "cell_type": "markdown",
   "id": "ac919d7a",
   "metadata": {},
   "source": [
    "## 가우시안 커널 분류를 사용한 서포트 벡터 머신"
   ]
  },
  {
   "cell_type": "code",
   "execution_count": 57,
   "id": "7778219c",
   "metadata": {},
   "outputs": [
    {
     "name": "stdout",
     "output_type": "stream",
     "text": [
      "f1 score is 0.782608695652174\n"
     ]
    }
   ],
   "source": [
    "clf = SVC(gamma = 2 , C=1)\n",
    "clf.fit(X_train, y_train)\n",
    "\n",
    "y_pred = clf.predict(X_test)\n",
    "f1 = f1_score(y_test, y_pred)\n",
    "print('f1 score is ' + str(f1))"
   ]
  },
  {
   "cell_type": "markdown",
   "id": "ecfe387a",
   "metadata": {},
   "source": [
    "# 트리 기반 분류"
   ]
  },
  {
   "cell_type": "markdown",
   "id": "6c1f3046",
   "metadata": {},
   "source": [
    "##  의사결정트리(Decision Tree Classification)"
   ]
  },
  {
   "cell_type": "code",
   "execution_count": 60,
   "id": "af6974da",
   "metadata": {},
   "outputs": [
    {
     "name": "stdout",
     "output_type": "stream",
     "text": [
      "f1 score is 0.7391304347826089\n"
     ]
    }
   ],
   "source": [
    "from sklearn.tree import DecisionTreeClassifier\n",
    "from sklearn.metrics import f1_score\n",
    "\n",
    "X_train, X_test, y_train, y_test = get_moon_data()\n",
    "\n",
    "clf = DecisionTreeClassifier(max_depth = 4, random_state = 42)\n",
    "clf.fit(X_train, y_train)\n",
    "\n",
    "y_pred = clf.predict(X_test)\n",
    "f1 = f1_score(y_test, y_pred)\n",
    "\n",
    "print('f1 score is ' + str(f1))"
   ]
  },
  {
   "cell_type": "markdown",
   "id": "396a365b",
   "metadata": {},
   "source": [
    "## 랜덤 포레스트"
   ]
  },
  {
   "cell_type": "code",
   "execution_count": 63,
   "id": "7ed12f34",
   "metadata": {},
   "outputs": [
    {
     "name": "stdout",
     "output_type": "stream",
     "text": [
      "f1 score is = 0.7659574468085107\n",
      "OOB score is = 0.73\n"
     ]
    }
   ],
   "source": [
    "from sklearn.ensemble import RandomForestClassifier\n",
    "from sklearn.metrics import f1_score\n",
    "\n",
    "X_train, X_test, y_train, y_test = get_moon_data()\n",
    "\n",
    "clf = RandomForestClassifier(max_depth = 4, n_estimators = 10,\n",
    "                             max_features = 'sqrt', random_state = 42,\n",
    "                            oob_score = True)\n",
    "\n",
    "clf.fit(X_train, y_train)\n",
    "\n",
    "y_pred = clf.predict(X_test)\n",
    "f1 = f1_score(y_test, y_pred)\n",
    "\n",
    "oob_score = clf.oob_score_\n",
    "\n",
    "print('f1 score is = ' + str(f1))\n",
    "print('OOB score is = ' + str(oob_score))\n"
   ]
  },
  {
   "cell_type": "markdown",
   "id": "4a93d9fc",
   "metadata": {},
   "source": [
    "# 교차 검증(Cross_validation)\n",
    "\n",
    "## 검증 데이터 셋 생성"
   ]
  },
  {
   "cell_type": "code",
   "execution_count": 65,
   "id": "374843c9",
   "metadata": {},
   "outputs": [],
   "source": [
    "from sklearn.datasets import load_iris\n",
    "dataset = load_iris()\n",
    "X, y = dataset.data, dataset.target\n",
    "\n",
    "X_train, X_test, y_train, y_test = \\\n",
    "train_test_split(X,y, test_size = 0.33)\n",
    "\n",
    "X_train, X_val, y_train, y_val = \\\n",
    "train_test_split(X,y, test_size = 0.33)\n"
   ]
  },
  {
   "cell_type": "markdown",
   "id": "2403f56b",
   "metadata": {},
   "source": [
    "# k-폴드 교차 검증"
   ]
  },
  {
   "cell_type": "code",
   "execution_count": 66,
   "id": "732d58fb",
   "metadata": {},
   "outputs": [
    {
     "name": "stdout",
     "output_type": "stream",
     "text": [
      "[0.94747475 0.94747475 0.84242424 1.         0.94405594]\n"
     ]
    }
   ],
   "source": [
    "from sklearn.datasets import load_iris\n",
    "from sklearn.linear_model import LogisticRegression\n",
    "from sklearn.model_selection import cross_val_score\n",
    "from sklearn import metrics\n",
    "from sklearn.model_selection import train_test_split\n",
    "\n",
    "clf = LogisticRegression(solver = 'lbfgs', multi_class = 'ovr')\n",
    "scores = cross_val_score(clf, X_train, y_train, cv = 5, scoring = 'f1_macro')\n",
    "print(scores)"
   ]
  },
  {
   "cell_type": "markdown",
   "id": "a63ca268",
   "metadata": {},
   "source": [
    "# 초매개변수 튜닝을 위한 그리드 검색"
   ]
  },
  {
   "cell_type": "code",
   "execution_count": 69,
   "id": "f37251e8",
   "metadata": {},
   "outputs": [
    {
     "name": "stdout",
     "output_type": "stream",
     "text": [
      "Best score is 0.9888111888111888\n",
      "Best parameters are = {'C': 1, 'kernel': 'linear'}\n"
     ]
    }
   ],
   "source": [
    "from sklearn.model_selection import GridSearchCV\n",
    "from sklearn.svm import SVC\n",
    "\n",
    "parameters = {'kernel' : ('linear', 'rbf'), 'C' : [1, 5, 10]}\n",
    "svc = SVC(gamma = 'auto')\n",
    "clf = GridSearchCV(svc, parameters, cv= 5, scoring = 'f1_macro')\n",
    "clf.fit(X_train, y_train)\n",
    "\n",
    "print('Best score is ' + str(clf.best_score_))\n",
    "print('Best parameters are = ' + str(clf.best_params_))"
   ]
  },
  {
   "cell_type": "code",
   "execution_count": null,
   "id": "43f62d62",
   "metadata": {},
   "outputs": [],
   "source": []
  }
 ],
 "metadata": {
  "kernelspec": {
   "display_name": "Python 3",
   "language": "python",
   "name": "python3"
  },
  "language_info": {
   "codemirror_mode": {
    "name": "ipython",
    "version": 3
   },
   "file_extension": ".py",
   "mimetype": "text/x-python",
   "name": "python",
   "nbconvert_exporter": "python",
   "pygments_lexer": "ipython3",
   "version": "3.8.8"
  }
 },
 "nbformat": 4,
 "nbformat_minor": 5
}
